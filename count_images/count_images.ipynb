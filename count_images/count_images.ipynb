{
 "cells": [
  {
   "cell_type": "code",
   "execution_count": null,
   "id": "641c1e3a",
   "metadata": {
    "vscode": {
     "languageId": "plaintext"
    }
   },
   "outputs": [],
   "source": [
    "import os\n",
    "\n",
    "folder_path = 'FOLDER'  # or provide full path like '/path/to/val_images'\n",
    "image_extensions = ('.jpg', '.jpeg', '.png', '.bmp', '.gif', '.tiff', '.webp')  # add more if needed\n",
    "\n",
    "image_files = [f for f in os.listdir(folder_path) if f.lower().endswith(image_extensions)]\n",
    "\n",
    "print(\"Number of images:\", len(image_files))"
   ]
  }
 ],
 "metadata": {
  "language_info": {
   "name": "python"
  }
 },
 "nbformat": 4,
 "nbformat_minor": 5
}
