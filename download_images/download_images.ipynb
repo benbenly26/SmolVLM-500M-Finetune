{
 "cells": [
  {
   "cell_type": "code",
   "execution_count": null,
   "id": "b9310d87",
   "metadata": {
    "vscode": {
     "languageId": "plaintext"
    }
   },
   "outputs": [],
   "source": [
    "!pip install datasets"
   ]
  },
  {
   "cell_type": "code",
   "execution_count": null,
   "id": "652d5009",
   "metadata": {
    "vscode": {
     "languageId": "plaintext"
    }
   },
   "outputs": [],
   "source": [
    "import json\n",
    "import os\n",
    "import requests\n",
    "import time\n",
    "\n",
    "data = None\n",
    "with open(\"YOUR JSON FILE.json\", \"r\") as training:\n",
    "    data = json.load(training)\n",
    "\n",
    "image_dir = \"testing_data\"\n",
    "\n",
    "# Load dataset\n",
    "dataset = data\n",
    "total_images = len(dataset)\n",
    "print(f\"Dataset loaded with {total_images} records\")\n",
    "\n",
    "# Directory to save images\n",
    "os.makedirs(image_dir, exist_ok=True)\n",
    "\n",
    "# Initialize variables for time estimation\n",
    "start_time = time.time()\n",
    "\n",
    "# Download images with progress and time estimation\n",
    "for i, data in enumerate(dataset):\n",
    "    image_url = data.get(\"image_path\")\n",
    "    if not image_url:\n",
    "        print(f\"Skipping record {i}: No image URL found.\")\n",
    "        continue\n",
    "\n",
    "    image_path = os.path.join(image_dir, f\"image_{i}.png\")\n",
    "\n",
    "    try:\n",
    "        # Track download progress\n",
    "        response = requests.get(image_url, timeout=10)\n",
    "\n",
    "        if response.status_code == 200 and response.content:\n",
    "            with open(image_path, \"wb\") as f:\n",
    "                f.write(response.content)\n",
    "\n",
    "            # Calculate elapsed time and estimated time left\n",
    "            elapsed_time = time.time() - start_time\n",
    "            remaining_images = total_images - (i + 1)\n",
    "            \n",
    "            # Estimate remaining time\n",
    "            if i > 0:\n",
    "                time_per_image = elapsed_time / (i + 1)\n",
    "                remaining_time = time_per_image * remaining_images\n",
    "                minutes_left = remaining_time / 60\n",
    "\n",
    "                # Calculate percentage of completion\n",
    "                percentage = (i + 1) / total_images * 100\n",
    "                print(f\"Downloaded {i + 1}/{total_images} images ({percentage:.2f}%)\")\n",
    "                print(f\"Estimated time remaining: {minutes_left:.2f} minutes\")\n",
    "        else:\n",
    "            print(f\"Skipping {image_url}: Invalid response ({response.status_code})\")\n",
    "\n",
    "    except requests.exceptions.RequestException as e:\n",
    "        print(f\"Error downloading {image_url}: {e}\")"
   ]
  }
 ],
 "metadata": {
  "language_info": {
   "name": "python"
  }
 },
 "nbformat": 4,
 "nbformat_minor": 5
}
