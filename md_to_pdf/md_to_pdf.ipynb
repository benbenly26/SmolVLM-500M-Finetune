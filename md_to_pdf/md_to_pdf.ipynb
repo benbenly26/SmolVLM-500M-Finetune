{
 "cells": [
  {
   "cell_type": "code",
   "execution_count": null,
   "id": "6a9186f3",
   "metadata": {
    "vscode": {
     "languageId": "plaintext"
    }
   },
   "outputs": [],
   "source": [
    "!pip install markdown2 pdfkit"
   ]
  },
  {
   "cell_type": "code",
   "execution_count": null,
   "id": "3e395308",
   "metadata": {
    "vscode": {
     "languageId": "plaintext"
    }
   },
   "outputs": [],
   "source": [
    "import os\n",
    "import re\n",
    "import markdown2\n",
    "import pdfkit\n",
    "\n",
    "# Configuration\n",
    "md_folder = '/home/md/'  # Path to your folder with .md files\n",
    "output_pdf = '/home/md_output.pdf'  # Output PDF path\n",
    "temp_html_path = '/tmp/temp_md.html'  # Temporary HTML file path\n",
    "\n",
    "# Collect and naturally sort all .md files in the folder\n",
    "md_files = [\n",
    "    os.path.join(md_folder, f)\n",
    "    for f in os.listdir(md_folder)\n",
    "    if f.lower().endswith(\".md\")\n",
    "]\n",
    "\n",
    "def natural_sort_key(file):\n",
    "    return [int(text) if text.isdigit() else text.lower() for text in re.split(r'(\\d+)', file)]\n",
    "\n",
    "md_files.sort(key=natural_sort_key)\n",
    "\n",
    "# Combine all markdown content into a single string (no file titles)\n",
    "combined_markdown = ''\n",
    "for md_file in md_files:\n",
    "    with open(md_file, 'r', encoding='utf-8') as f:\n",
    "        content = f.read()\n",
    "        combined_markdown += content + \"\\n\\n\"\n",
    "\n",
    "# Convert combined markdown to HTML using markdown2 with table support\n",
    "html_content = markdown2.markdown(\n",
    "    combined_markdown,\n",
    "    extras=['fenced-code-blocks', 'tables']\n",
    ")\n",
    "\n",
    "# Add robust CSS to ensure tables render properly in PDF\n",
    "table_css = \"\"\"\n",
    "<style>\n",
    "    body {\n",
    "        font-family: Arial, sans-serif;\n",
    "        font-size: 12px;\n",
    "        padding: 20px;\n",
    "    }\n",
    "    table {\n",
    "        width: 100%;\n",
    "        border-collapse: collapse;\n",
    "        margin: 10px 0;\n",
    "    }\n",
    "    th, td {\n",
    "        border: 1px solid #444;\n",
    "        padding: 6px 10px;\n",
    "        word-wrap: break-word;\n",
    "        max-width: 200px;\n",
    "        text-align: left;\n",
    "    }\n",
    "    th {\n",
    "        background-color: #f0f0f0;\n",
    "    }\n",
    "    pre, code {\n",
    "        background-color: #f8f8f8;\n",
    "        padding: 4px;\n",
    "        border-radius: 4px;\n",
    "        display: block;\n",
    "        overflow-x: auto;\n",
    "    }\n",
    "</style>\n",
    "\"\"\"\n",
    "\n",
    "# Save full HTML content to a temporary HTML file\n",
    "with open(temp_html_path, 'w', encoding='utf-8') as f:\n",
    "    f.write(table_css + html_content)\n",
    "\n",
    "# Optional: Pass wkhtmltopdf path manually if not in PATH\n",
    "# config = pdfkit.configuration(wkhtmltopdf='/usr/bin/wkhtmltopdf')  # Adjust if needed\n",
    "\n",
    "# Convert the HTML to PDF\n",
    "pdfkit.from_file(temp_html_path, output_pdf)  # add configuration=config if needed\n",
    "\n",
    "print(f\"✅ PDF created successfully: {output_pdf}\")"
   ]
  }
 ],
 "metadata": {
  "language_info": {
   "name": "python"
  }
 },
 "nbformat": 4,
 "nbformat_minor": 5
}
