{
 "cells": [
  {
   "cell_type": "code",
   "execution_count": null,
   "id": "470b4941",
   "metadata": {
    "vscode": {
     "languageId": "plaintext"
    }
   },
   "outputs": [],
   "source": [
    "import json\n",
    "import random\n",
    "\n",
    "json_path = \"YOUR JSON.json\"\n",
    "cleaned_data = []\n",
    "\n",
    "with open(json_path, \"r\") as f:\n",
    "    text = f.read()\n",
    "\n",
    "# Try to salvage objects from a broken array\n",
    "if text.strip().startswith('['):\n",
    "    text = text.strip()[1:]  # Remove opening [\n",
    "if text.strip().endswith(']'):\n",
    "    text = text.strip()[:-1]  # Remove closing ]\n",
    "\n",
    "# Try splitting by closing curly brace\n",
    "objects = text.split('},')\n",
    "for obj_str in objects:\n",
    "    obj_str = obj_str.strip()\n",
    "    if not obj_str.endswith('}'):\n",
    "        obj_str += '}'\n",
    "    try:\n",
    "        data = json.loads(obj_str)\n",
    "        cleaned_data.append(data)\n",
    "    except json.JSONDecodeError:\n",
    "        continue  # skip broken entries\n",
    "\n",
    "# Shuffle and trim to 500\n",
    "random.shuffle(cleaned_data)\n",
    "trimmed_data = cleaned_data[:500]\n",
    "\n",
    "# Save the cleaned and randomly selected version\n",
    "with open(\"500_random.json\", \"w\") as f:\n",
    "    json.dump(trimmed_data, f, indent=2)"
   ]
  }
 ],
 "metadata": {
  "language_info": {
   "name": "python"
  }
 },
 "nbformat": 4,
 "nbformat_minor": 5
}
