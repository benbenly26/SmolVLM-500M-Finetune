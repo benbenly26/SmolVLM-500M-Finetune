{
 "cells": [
  {
   "cell_type": "code",
   "execution_count": null,
   "id": "1047956d",
   "metadata": {
    "vscode": {
     "languageId": "plaintext"
    }
   },
   "outputs": [],
   "source": [
    "!pip install pillow fpdf"
   ]
  },
  {
   "cell_type": "code",
   "execution_count": null,
   "id": "6a100998",
   "metadata": {
    "vscode": {
     "languageId": "plaintext"
    }
   },
   "outputs": [],
   "source": [
    "import os\n",
    "from PIL import Image\n",
    "from fpdf import FPDF\n",
    "\n",
    "# Replace with your folder path\n",
    "image_folder = '/home/Folder_Name/'\n",
    "output_pdf = '/home/pdf_name.pdf'\n",
    "\n",
    "# Get all image files in the folder (assuming image formats like .jpg, .png, etc.)\n",
    "image_files = [\n",
    "    os.path.join(image_folder, f)\n",
    "    for f in os.listdir(image_folder)\n",
    "    if f.lower().endswith(('.png', '.jpg', '.jpeg', '.gif', '.bmp'))  # Add more formats if needed\n",
    "]\n",
    "\n",
    "# Sort files based on the number in the filename (image_0.png, image_1.png, etc.)\n",
    "image_files.sort(key=lambda x: int(os.path.splitext(os.path.basename(x))[0].split('_')[1]))\n",
    "\n",
    "# Create a PDF instance using FPDF\n",
    "pdf = FPDF()\n",
    "\n",
    "# Loop through all images and add them to the PDF\n",
    "for image_file in image_files:\n",
    "    img = Image.open(image_file)\n",
    "    \n",
    "    # Convert the image to RGB (important for formats like PNG)\n",
    "    img = img.convert('RGB')\n",
    "\n",
    "    # Get image dimensions\n",
    "    width, height = img.size\n",
    "\n",
    "    # Add a new page for each image\n",
    "    pdf.add_page()\n",
    "\n",
    "    # Add the image to the PDF directly from the file path\n",
    "    # Adjust the image size to fit within A4 dimensions\n",
    "    pdf.image(image_file, x = 0, y = 0, w = 210, h = 297)  # You can adjust the 'w' and 'h' to fit your images\n",
    "\n",
    "# Save the generated PDF\n",
    "pdf.output(output_pdf)\n",
    "\n",
    "print(f\"PDF created successfully: {output_pdf}\")\n"
   ]
  }
 ],
 "metadata": {
  "language_info": {
   "name": "python"
  }
 },
 "nbformat": 4,
 "nbformat_minor": 5
}
