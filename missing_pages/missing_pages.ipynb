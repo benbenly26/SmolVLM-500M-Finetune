{
 "cells": [
  {
   "cell_type": "code",
   "execution_count": null,
   "id": "67a55aae",
   "metadata": {
    "vscode": {
     "languageId": "plaintext"
    }
   },
   "outputs": [],
   "source": [
    "import os\n",
    "import re\n",
    "\n",
    "folder_path = 'FOLDER'\n",
    "image_extensions = ('.jpg', '.jpeg', '.png', '.bmp', '.gif', '.tiff', '.webp')\n",
    "\n",
    "# Step 1: List and extract numbered image names\n",
    "image_numbers = []\n",
    "\n",
    "for filename in os.listdir(folder_path):\n",
    "    if filename.lower().endswith(image_extensions):\n",
    "        match = re.search(r'image_(\\d+)', filename)\n",
    "        if match:\n",
    "            image_numbers.append(int(match.group(1)))\n",
    "\n",
    "# Step 2: Find missing numbers\n",
    "if image_numbers:\n",
    "    image_numbers.sort()\n",
    "    start = min(image_numbers)\n",
    "    end = max(image_numbers)\n",
    "    full_set = set(range(start, end + 1))\n",
    "    missing = sorted(full_set - set(image_numbers))\n",
    "\n",
    "    print(\"Total images found:\", len(image_numbers))\n",
    "    print(\"Expected range: image_{} to image_{}\".format(start, end))\n",
    "    print(\"Missing image numbers:\", missing)\n",
    "else:\n",
    "    print(\"No images found matching the pattern.\")"
   ]
  }
 ],
 "metadata": {
  "language_info": {
   "name": "python"
  }
 },
 "nbformat": 4,
 "nbformat_minor": 5
}
