{
 "cells": [
  {
   "cell_type": "code",
   "execution_count": null,
   "id": "8eefb046",
   "metadata": {
    "vscode": {
     "languageId": "plaintext"
    }
   },
   "outputs": [],
   "source": [
    "import os\n",
    "\n",
    "folder_path = 'FOLDER'\n",
    "image_extensions = ('.jpg', '.jpeg', '.png', '.bmp', '.gif', '.tiff', '.webp')\n",
    "\n",
    "# Get list of image files BEFORE renaming starts\n",
    "image_files = [f for f in os.listdir(folder_path) if f.lower().endswith(image_extensions)]\n",
    "image_files.sort()  # Sort alphabetically (you can skip or change to mtime if needed)\n",
    "\n",
    "# Make a COPY of the list to avoid mid-renaming issues\n",
    "image_files = image_files.copy()\n",
    "\n",
    "# First, rename everything to a temporary name to avoid filename clashes\n",
    "for idx, filename in enumerate(image_files):\n",
    "    old_path = os.path.join(folder_path, filename)\n",
    "    temp_filename = f\"temp_{idx}.tmp\"\n",
    "    temp_path = os.path.join(folder_path, temp_filename)\n",
    "    os.rename(old_path, temp_path)\n",
    "\n",
    "# Now rename from temp names to final desired names\n",
    "temp_files = [f for f in os.listdir(folder_path) if f.startswith(\"temp_\")]\n",
    "\n",
    "for idx, filename in enumerate(temp_files, start=1):\n",
    "    _, ext = os.path.splitext(image_files[idx-1])  # Original extension from first list\n",
    "    new_filename = f\"image_{idx}{ext.lower()}\"\n",
    "    old_path = os.path.join(folder_path, filename)\n",
    "    new_path = os.path.join(folder_path, new_filename)\n",
    "    os.rename(old_path, new_path)\n",
    "    print(f\"Renamed: {filename} --> {new_filename}\")\n",
    "\n",
    "print(\"Renaming completed for all images. ✅\")"
   ]
  }
 ],
 "metadata": {
  "language_info": {
   "name": "python"
  }
 },
 "nbformat": 4,
 "nbformat_minor": 5
}
