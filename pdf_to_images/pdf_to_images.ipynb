{
 "cells": [
  {
   "cell_type": "code",
   "execution_count": null,
   "id": "cec4f229",
   "metadata": {
    "vscode": {
     "languageId": "plaintext"
    }
   },
   "outputs": [],
   "source": [
    "!pip install datasets\n",
    "!pip install pymupdf"
   ]
  },
  {
   "cell_type": "code",
   "execution_count": null,
   "id": "d6e91d25",
   "metadata": {
    "vscode": {
     "languageId": "plaintext"
    }
   },
   "outputs": [],
   "source": [
    "import fitz  # PyMuPDF\n",
    "import os\n",
    "\n",
    "# Folder where you want to save the page images\n",
    "image_dir = 'testing_data'\n",
    "os.makedirs(image_dir, exist_ok=True)\n",
    "\n",
    "# PDF file path\n",
    "pdf_file_path = \"YOUR PDF PATH\"\n",
    "\n",
    "# Open the PDF file\n",
    "doc = fitz.open(pdf_file_path)\n",
    "\n",
    "# Render each page as an image\n",
    "for page_num in range(doc.page_count):\n",
    "    page = doc.load_page(page_num)\n",
    "    pix = page.get_pixmap(dpi=200)  # Higher DPI = better quality\n",
    "    image_filename = os.path.join(image_dir, f\"page_{page_num + 1}.png\")\n",
    "    pix.save(image_filename)\n",
    "    print(f\"Saved rendered page to {image_filename}\")\n",
    "\n",
    "print(f\"Total pages rendered: {doc.page_count}\")"
   ]
  }
 ],
 "metadata": {
  "language_info": {
   "name": "python"
  }
 },
 "nbformat": 4,
 "nbformat_minor": 5
}
