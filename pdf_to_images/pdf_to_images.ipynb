{
 "cells": [
  {
   "cell_type": "code",
   "execution_count": null,
   "id": "cec4f229",
   "metadata": {
    "vscode": {
     "languageId": "plaintext"
    }
   },
   "outputs": [],
   "source": [
    "!pip install datasets\n",
    "!pip install pymupdf"
   ]
  },
  {
   "cell_type": "code",
   "execution_count": null,
   "id": "d6e91d25",
   "metadata": {
    "vscode": {
     "languageId": "plaintext"
    }
   },
   "outputs": [],
   "source": [
    "import fitz  # PyMuPDF\n",
    "import os\n",
    "\n",
    "# Folder where you want to save the images\n",
    "image_dir = 'testing_data'\n",
    "os.makedirs(image_dir, exist_ok=True)\n",
    "\n",
    "# PDF file path\n",
    "pdf_file_path = \"YOUR PDF PATH\"\n",
    "\n",
    "# Open the PDF file\n",
    "doc = fitz.open(pdf_file_path)\n",
    "\n",
    "# Extract images from each page\n",
    "image_count = 0\n",
    "missing_image_pages = []  # To keep track of pages without images\n",
    "\n",
    "for page_num in range(doc.page_count):\n",
    "    page = doc.load_page(page_num)  # page_num starts from 0\n",
    "    image_list = page.get_images(full=True)  # Get all images on the page\n",
    "\n",
    "    if image_list:  # If images are found on this page\n",
    "        for img_index, img in enumerate(image_list):\n",
    "            xref = img[0]\n",
    "            base_image = doc.extract_image(xref)  # Extract the image using its xref\n",
    "            image_bytes = base_image[\"image\"]  # Image in bytes\n",
    "\n",
    "            # Save the image as PNG\n",
    "            image_filename = os.path.join(image_dir, f\"image_{image_count}.png\")\n",
    "            with open(image_filename, \"wb\") as img_file:\n",
    "                img_file.write(image_bytes)\n",
    "\n",
    "            image_count += 1\n",
    "            print(f\"Saved image {image_count} to {image_filename}\")\n",
    "    else:\n",
    "        missing_image_pages.append(page_num + 1)  # Page numbers are 1-based for user readability\n",
    "\n",
    "print(f\"Total images saved: {image_count}\")\n",
    "if missing_image_pages:\n",
    "    print(f\"Pages without images: {missing_image_pages}\")\n",
    "else:\n",
    "    print(\"All pages contain images.\")"
   ]
  }
 ],
 "metadata": {
  "language_info": {
   "name": "python"
  }
 },
 "nbformat": 4,
 "nbformat_minor": 5
}
